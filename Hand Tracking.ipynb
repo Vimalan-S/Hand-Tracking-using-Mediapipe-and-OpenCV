{
 "cells": [
  {
   "cell_type": "markdown",
   "metadata": {},
   "source": [
    "IMPORTING NECESSARY PACKAGES"
   ]
  },
  {
   "cell_type": "code",
   "execution_count": 1,
   "metadata": {},
   "outputs": [],
   "source": [
    "import cv2 as cv\n",
    "import mediapipe as mp"
   ]
  },
  {
   "cell_type": "markdown",
   "metadata": {},
   "source": [
    "INITIALIZING HAND TRACKING MODULES"
   ]
  },
  {
   "cell_type": "code",
   "execution_count": 2,
   "metadata": {},
   "outputs": [],
   "source": [
    "# INITIALIZING THE 'HANDS' CLASS\n",
    "mpHands = mp.solutions.hands\n",
    "\n",
    "# SETTING UP THE 'HANDS' FUNCTION THAT RETURNS THE LOCATION POINTS\n",
    "Hands = mpHands.Hands()\n",
    "\n",
    "# SETTING UP A DRAWING FUNCTION THAT DRAWS ALL LOCATION POINTS ON THE OUTPUT IMAGE/FRAME\n",
    "mpDraw = mp.solutions.drawing_utils"
   ]
  },
  {
   "cell_type": "markdown",
   "metadata": {},
   "source": [
    "CAPTURING VIDEO FROM WEBCAM"
   ]
  },
  {
   "cell_type": "code",
   "execution_count": 3,
   "metadata": {},
   "outputs": [],
   "source": [
    "cam = cv.VideoCapture(0)"
   ]
  },
  {
   "cell_type": "markdown",
   "metadata": {},
   "source": [
    "HAND TRACKING "
   ]
  },
  {
   "cell_type": "code",
   "execution_count": 4,
   "metadata": {},
   "outputs": [],
   "source": [
    "def Hand_Tracking():\n",
    "    \n",
    "    while (cam.isOpened()):  # CHECKING CAMERA IS OPENED OR NOT\n",
    "\n",
    "        # READING THE FRAMES CAPTURED FROM WEBCAM\n",
    "        success, img = cam.read()\n",
    "\n",
    "        # CONVERTING BGR IMAGE TO RGB AS MEDIAPIPE WORKS ONLY WITH RGB IMAGES\n",
    "        converted_image = cv.cvtColor(img, cv.COLOR_BGR2RGB) \n",
    "\n",
    "        # IMAGE PROCESSING\n",
    "        results = Hands.process(converted_image)\n",
    "\n",
    "        # GETTING THE LOCATION OF HANDS (IF EXISTS)\n",
    "        if results.multi_hand_landmarks:   \n",
    "\n",
    "            # THE LANDMARKS ESTIMATED FOR EACH HAND IS STORED IN 'multi_hand_landmarks' FIELD\n",
    "            # LOOPING THROUGH EACH HAND FOUND IN THE FRAME\n",
    "            for hand_in_frame in results.multi_hand_landmarks: \n",
    "\n",
    "                # DRAWING HAND CONNECTIONS BY JOINING THE LANDMARKS OF EACH HAND USING LINES\n",
    "                mpDraw.draw_landmarks(img, hand_in_frame, mpHands.HAND_CONNECTIONS) \n",
    "\n",
    "        # DISPLAYING THE VIDEO\n",
    "        cv.imshow(\"Hand Tracking\", img) \n",
    "        \n",
    "        # EXITING WHEN 'q' IS PRESSED \n",
    "        if cv.waitKey(1) & 0xFF == ord('q'):\n",
    "            break"
   ]
  },
  {
   "cell_type": "markdown",
   "metadata": {},
   "source": [
    "CALLING THE FUNCTION"
   ]
  },
  {
   "cell_type": "code",
   "execution_count": null,
   "metadata": {},
   "outputs": [],
   "source": [
    "Hand_Tracking()"
   ]
  }
 ],
 "metadata": {
  "kernelspec": {
   "display_name": "Python 3.10.1 64-bit",
   "language": "python",
   "name": "python3"
  },
  "language_info": {
   "codemirror_mode": {
    "name": "ipython",
    "version": 3
   },
   "file_extension": ".py",
   "mimetype": "text/x-python",
   "name": "python",
   "nbconvert_exporter": "python",
   "pygments_lexer": "ipython3",
   "version": "3.10.1"
  },
  "orig_nbformat": 4,
  "vscode": {
   "interpreter": {
    "hash": "270f40dea5d1f5a229a1866a00a7f1d145fb5d24523a0eb20cef7127b3753f29"
   }
  }
 },
 "nbformat": 4,
 "nbformat_minor": 2
}
